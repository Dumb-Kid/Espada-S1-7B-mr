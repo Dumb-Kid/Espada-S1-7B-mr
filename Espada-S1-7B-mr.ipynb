{
  "nbformat": 4,
  "nbformat_minor": 0,
  "metadata": {
    "colab": {
      "provenance": [],
      "gpuType": "T4"
    },
    "kernelspec": {
      "name": "python3",
      "display_name": "Python 3"
    },
    "language_info": {
      "name": "python"
    },
    "accelerator": "GPU"
  },
  "cells": [
    {
      "cell_type": "code",
      "execution_count": null,
      "metadata": {
        "id": "mDLsxtKWubye"
      },
      "outputs": [],
      "source": [
        "# Install the required libraries\n",
        "!pip install transformers accelerate\n",
        "!pip install googletrans==4.0.0-rc1\n"
      ]
    },
    {
      "cell_type": "code",
      "source": [
        "# Import necessary libraries\n",
        "from transformers import AutoTokenizer, pipeline\n",
        "import transformers\n",
        "import torch\n",
        "from googletrans import Translator"
      ],
      "metadata": {
        "id": "u9r-cOghuek8"
      },
      "execution_count": null,
      "outputs": []
    },
    {
      "cell_type": "code",
      "source": [
        "# Set up the model and tokenizer\n",
        "model = \"DumbKid-AI007/Espada-S1-7B-mr\"\n",
        "tokenizer = AutoTokenizer.from_pretrained(model)\n",
        "generator = pipeline(\n",
        "    \"text-generation\",\n",
        "    model=model,\n",
        "    torch_dtype=torch.float16,\n",
        "    device_map=\"auto\",\n",
        ")"
      ],
      "metadata": {
        "id": "WEsw7ye4uhA3"
      },
      "execution_count": null,
      "outputs": []
    },
    {
      "cell_type": "code",
      "source": [
        "# Get user input for the initial prompt\n",
        "initial_prompt = input(\"Enter the initial prompt: \")"
      ],
      "metadata": {
        "id": "C4UXL9MRujap"
      },
      "execution_count": null,
      "outputs": []
    },
    {
      "cell_type": "code",
      "source": [
        "# Generate text\n",
        "sequences = generator(\n",
        "    f'You: {initial_prompt} Espada:',\n",
        "    max_length=1000,\n",
        "    num_return_sequences=1,\n",
        ")"
      ],
      "metadata": {
        "id": "8_2zubg63egB"
      },
      "execution_count": null,
      "outputs": []
    },
    {
      "cell_type": "code",
      "source": [
        "# Print Generated text\n",
        "for seq in sequences:\n",
        "    generated_text = seq['generated_text']\n",
        "    print(f\"{generated_text}\")"
      ],
      "metadata": {
        "id": "T3XY512a3pwV"
      },
      "execution_count": null,
      "outputs": []
    }
  ]
}